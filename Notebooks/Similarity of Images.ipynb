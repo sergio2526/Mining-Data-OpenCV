{
 "cells": [
  {
   "cell_type": "markdown",
   "metadata": {},
   "source": [
    "# Comparing Images Using Subtract"
   ]
  },
  {
   "cell_type": "code",
   "execution_count": 1,
   "metadata": {},
   "outputs": [],
   "source": [
    "import cv2\n",
    "import numpy as np\n",
    "import matplotlib.pyplot as plt"
   ]
  },
  {
   "cell_type": "code",
   "execution_count": 2,
   "metadata": {},
   "outputs": [],
   "source": [
    "img1 = cv2.imread('perfil.jpg')\n",
    "img2 = cv2.imread('perfil.jpg')\n",
    "img3 = cv2.imread('perfil_object.jpg')\n",
    "img4 = cv2.imread('cat.jpg')"
   ]
  },
  {
   "cell_type": "code",
   "execution_count": 8,
   "metadata": {},
   "outputs": [],
   "source": [
    "# Compare each image to the original using subtract\n",
    "\n",
    "try:\n",
    "    diff_12 = cv2.subtract(img1,img2)\n",
    "    diff_13 = cv2.subtract(img1,img3)\n",
    "    diff_14 = cv2.subtract(img1,img4)\n",
    "except e:\n",
    "    print('una de las imagenes no tienen el mismo size')"
   ]
  },
  {
   "cell_type": "code",
   "execution_count": 9,
   "metadata": {},
   "outputs": [
    {
     "name": "stdout",
     "output_type": "stream",
     "text": [
      "0\n",
      "36057385\n",
      "388519969\n"
     ]
    }
   ],
   "source": [
    "# Sum all element of the diff array\n",
    "\n",
    "print(np.sum(diff_12))\n",
    "print(np.sum(diff_13))\n",
    "print(np.sum(diff_14))"
   ]
  },
  {
   "cell_type": "code",
   "execution_count": 6,
   "metadata": {},
   "outputs": [
    {
     "name": "stdout",
     "output_type": "stream",
     "text": [
      "183600000\n"
     ]
    }
   ],
   "source": [
    "# Find max difference to give more insight into numbers\n",
    "total_pixel_value_count = 600*400*3*255\n",
    "print(total_pixel_value_count)"
   ]
  },
  {
   "cell_type": "code",
   "execution_count": 10,
   "metadata": {},
   "outputs": [
    {
     "name": "stdout",
     "output_type": "stream",
     "text": [
      "100.0\n",
      "80.360901416122\n",
      "-111.61218355119826\n"
     ]
    }
   ],
   "source": [
    "# % of similarity\n",
    "print((total_pixel_value_count - np.sum(diff_12))/total_pixel_value_count*100)\n",
    "print((total_pixel_value_count - np.sum(diff_13))/total_pixel_value_count*100)\n",
    "print((total_pixel_value_count - np.sum(diff_14))/total_pixel_value_count*100)"
   ]
  },
  {
   "cell_type": "code",
   "execution_count": 14,
   "metadata": {},
   "outputs": [],
   "source": [
    "#Show images\n",
    "cv2.imshow('My Image',diff_14)\n",
    "cv2.waitKey(0)\n",
    "cv2.destroyAllWindows()"
   ]
  },
  {
   "cell_type": "markdown",
   "metadata": {},
   "source": [
    "# Comparing Images Using HIstogram Comparison"
   ]
  },
  {
   "cell_type": "code",
   "execution_count": 26,
   "metadata": {},
   "outputs": [],
   "source": [
    "# Calculate the histograms using calCHist, channel is [0]=Blue\n",
    "\n",
    "img1_hist = cv2.calcHist([img1],[0],None,[256],[0,256])\n",
    "img2_hist = cv2.calcHist([img2],[0],None,[256],[0,256])\n",
    "img3_hist = cv2.calcHist([img3],[0],None,[256],[0,256])\n",
    "img4_hist = cv2.calcHist([img4],[0],None,[256],[0,256])"
   ]
  },
  {
   "cell_type": "code",
   "execution_count": 27,
   "metadata": {},
   "outputs": [
    {
     "data": {
      "image/png": "[encoded data removed]",
      "text/plain": [
       "<Figure size 432x288 with 1 Axes>"
      ]
     },
     "metadata": {
      "needs_background": "light"
     },
     "output_type": "display_data"
    }
   ],
   "source": [
    "plt.plot(img1_hist)\n",
    "plt.show()"
   ]
  },
  {
   "cell_type": "code",
   "execution_count": 28,
   "metadata": {},
   "outputs": [],
   "source": [
    "# calculate correlation values using compareHist()\n",
    "img1_img2 = cv2.compareHist(img1_hist, img2_hist,0)\n",
    "img1_img3 = cv2.compareHist(img1_hist, img3_hist,0)\n",
    "img1_img4 = cv2.compareHist(img1_hist, img4_hist,0)"
   ]
  },
  {
   "cell_type": "code",
   "execution_count": 29,
   "metadata": {},
   "outputs": [
    {
     "name": "stdout",
     "output_type": "stream",
     "text": [
      "1.0\n",
      "0.9612938051617015\n",
      "-0.18910176527711162\n"
     ]
    }
   ],
   "source": [
    "print(img1_img2)\n",
    "print(img1_img3)\n",
    "print(img1_img4)"
   ]
  },
  {
   "cell_type": "code",
   "execution_count": null,
   "metadata": {},
   "outputs": [],
   "source": []
  }
 ],
 "metadata": {
  "kernelspec": {
   "display_name": "Python 3",
   "language": "python",
   "name": "python3"
  },
  "language_info": {
   "codemirror_mode": {
    "name": "ipython",
    "version": 3
   },
   "file_extension": ".py",
   "mimetype": "text/x-python",
   "name": "python",
   "nbconvert_exporter": "python",
   "pygments_lexer": "ipython3",
   "version": "3.8.5"
  }
 },
 "nbformat": 4,
 "nbformat_minor": 4
}
