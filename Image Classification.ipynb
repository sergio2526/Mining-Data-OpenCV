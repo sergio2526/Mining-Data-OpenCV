{
 "cells": [
  {
   "cell_type": "code",
   "execution_count": 1,
   "metadata": {},
   "outputs": [],
   "source": [
    "import cv2 \n",
    "import numpy as np\n",
    "import matplotlib.pyplot as plt"
   ]
  },
  {
   "cell_type": "code",
   "execution_count": 10,
   "metadata": {},
   "outputs": [
    {
     "data": {
      "image/png": "[encoded data removed]",
      "text/plain": [
       "<Figure size 432x288 with 1 Axes>"
      ]
     },
     "metadata": {
      "needs_background": "light"
     },
     "output_type": "display_data"
    }
   ],
   "source": [
    "# Generate 20 known data points\n",
    "trainData = np.random.randint(0,100,(20,2)).astype(np.float32)\n",
    "\n",
    "# Labels each data point\n",
    "labels = np.random.randint(0,2,(20,1)).astype(np.float32)\n",
    "\n",
    "# When label = 0 show as red traingle\n",
    "red = trainData[labels.ravel()==0]\n",
    "plt.scatter(red[:,0], red[:,1],80,'r','^')\n",
    "\n",
    "# When label = 1 show as red traingle\n",
    "blue = trainData[labels.ravel()==1]\n",
    "plt.scatter(blue[:,0], blue[:,1],80,'b','s')\n",
    "\n",
    "\n",
    "# Test Point\n",
    "test = np.random.randint(0,100,(1,2)).astype(np.float32)\n",
    "plt.scatter(test[:,0],test[:,1],80,'g','o')\n",
    "plt.show()\n"
   ]
  },
  {
   "cell_type": "code",
   "execution_count": 15,
   "metadata": {},
   "outputs": [
    {
     "name": "stdout",
     "output_type": "stream",
     "text": [
      "result [[0.]]\n",
      "neighbours [[1. 0. 0. 0. 0. 0. 0.]]\n",
      "distance [[  20.  356.  409.  629.  962. 1060. 1818.]]\n"
     ]
    }
   ],
   "source": [
    "# Implement K-NN\n",
    "\n",
    "knn = cv2.ml.KNearest_create()\n",
    "knn.train(trainData, cv2.ml.ROW_SAMPLE, labels)\n",
    "res, results, neighbours, dist = knn.findNearest(test,7)\n",
    "\n",
    "print('result', results)\n",
    "print('neighbours', neighbours)\n",
    "print('distance', dist)"
   ]
  },
  {
   "cell_type": "markdown",
   "metadata": {},
   "source": [
    "# Image Classification using k-NN"
   ]
  },
  {
   "cell_type": "code",
   "execution_count": 21,
   "metadata": {},
   "outputs": [],
   "source": [
    "# Import the images\n",
    "img1 = cv2.imread('images/apple1.jpg',0)\n",
    "img2 = cv2.imread('images/apple2.jpg',0)\n",
    "img3 = cv2.imread('images/apple3.jpg',0)\n",
    "\n",
    "img4 = cv2.imread('images/banana1.jpg',0)\n",
    "img5 = cv2.imread('images/banana2.jpg',0)\n",
    "img6 = cv2.imread('images/banana3.jpg',0)\n",
    "\n",
    "test = cv2.imread('images/apple4.jpg',0)"
   ]
  },
  {
   "cell_type": "code",
   "execution_count": 22,
   "metadata": {},
   "outputs": [],
   "source": [
    "# Combine the images into one array\n",
    "train = np.concatenate((img1, img2, img3, img4, img5, img6), axis=0)\n",
    "\n",
    "# Prepare train and test datasets\n",
    "train = train.reshape(-1,10000).astype(np.float32)\n",
    "test = test.reshape(-1,10000).astype(np.float32)"
   ]
  },
  {
   "cell_type": "code",
   "execution_count": 23,
   "metadata": {},
   "outputs": [
    {
     "data": {
      "text/plain": [
       "(6, 10000)"
      ]
     },
     "execution_count": 23,
     "metadata": {},
     "output_type": "execute_result"
    }
   ],
   "source": [
    "train.shape"
   ]
  },
  {
   "cell_type": "code",
   "execution_count": 24,
   "metadata": {},
   "outputs": [],
   "source": [
    "# Create labels for train and test data. Apple = 0 , Banana = 1.\n",
    "train_labels = np.array([[0],[0],[0],[1],[1],[1]]).astype(np.float32)"
   ]
  },
  {
   "cell_type": "code",
   "execution_count": 27,
   "metadata": {},
   "outputs": [],
   "source": [
    "# Initiate kNN, train the data, then test it with test data for k=1\n",
    "knn = cv2.ml.KNearest_create()\n",
    "knn.train(train, cv2.ml.ROW_SAMPLE, train_labels)\n",
    "ret,result,neighbours,dist = knn.findNearest(test,k=2)"
   ]
  },
  {
   "cell_type": "code",
   "execution_count": 28,
   "metadata": {},
   "outputs": [
    {
     "name": "stdout",
     "output_type": "stream",
     "text": [
      "I guess this is an apple!\n"
     ]
    }
   ],
   "source": [
    "# Print out result of classification\n",
    "if result == 0:\n",
    "    print('I guess this is an apple!')\n",
    "elif result == 1:\n",
    "    print('I guess this is a banana!')     "
   ]
  },
  {
   "cell_type": "code",
   "execution_count": 31,
   "metadata": {},
   "outputs": [],
   "source": [
    "# Import the image\n",
    "img = cv2.imread('images/digits.png')\n",
    "gray = cv2.cvtColor(img,cv2.COLOR_BGR2GRAY)\n",
    "\n",
    "# Show the image to visualize\n",
    "cv2.imshow('img',img)\n",
    "cv2.waitKey(0)\n",
    "cv2.destroyAllWindows()"
   ]
  },
  {
   "cell_type": "code",
   "execution_count": 32,
   "metadata": {},
   "outputs": [],
   "source": [
    "# Now we split the image to 5000 cells, each 20x20 size\n",
    "cells = [np.hsplit(row,100) for row in np.vsplit(gray,50)]\n",
    "\n",
    "# Make it into a Numpy array. It size will be (50,100,20,20)\n",
    "x = np.array(cells)\n",
    "\n",
    "# Now we prepare train_data and test_data.\n",
    "train = x[:,:50].reshape(-1,400).astype(np.float32) # Size = (2500,400)\n",
    "test = x[:,50:100].reshape(-1,400).astype(np.float32) # Size = (2500,400)"
   ]
  },
  {
   "cell_type": "code",
   "execution_count": 33,
   "metadata": {},
   "outputs": [],
   "source": [
    "# Create labels for train and test data\n",
    "k = np.arange(10)\n",
    "train_labels = np.repeat(k,250)[:,np.newaxis]\n",
    "test_labels = train_labels.copy()"
   ]
  },
  {
   "cell_type": "code",
   "execution_count": 34,
   "metadata": {},
   "outputs": [],
   "source": [
    "# Initiate kNN, train the data, then test it with test data for k=1\n",
    "knn = cv2.ml.KNearest_create()\n",
    "knn.train(train, cv2.ml.ROW_SAMPLE, train_labels)\n",
    "ret,result,neighbours,dist = knn.findNearest(test,k=1)"
   ]
  },
  {
   "cell_type": "code",
   "execution_count": 35,
   "metadata": {},
   "outputs": [
    {
     "name": "stdout",
     "output_type": "stream",
     "text": [
      "92.0\n"
     ]
    }
   ],
   "source": [
    "# Now we check the accuracy of classification\n",
    "# For that, compare the result with test_labels and check which are wrong\n",
    "matches = result==test_labels\n",
    "correct = np.count_nonzero(matches)\n",
    "accuracy = correct*100.0/result.size\n",
    "print( accuracy )"
   ]
  },
  {
   "cell_type": "code",
   "execution_count": null,
   "metadata": {},
   "outputs": [],
   "source": []
  }
 ],
 "metadata": {
  "kernelspec": {
   "display_name": "Python 3",
   "language": "python",
   "name": "python3"
  },
  "language_info": {
   "codemirror_mode": {
    "name": "ipython",
    "version": 3
   },
   "file_extension": ".py",
   "mimetype": "text/x-python",
   "name": "python",
   "nbconvert_exporter": "python",
   "pygments_lexer": "ipython3",
   "version": "3.8.5"
  }
 },
 "nbformat": 4,
 "nbformat_minor": 4
}
